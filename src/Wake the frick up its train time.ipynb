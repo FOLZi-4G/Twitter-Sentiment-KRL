{
 "cells": [
  {
   "cell_type": "markdown",
   "metadata": {},
   "source": [
    "## Kelompok 3: Analisis Sentimen Pengguna KRL Keratai Api Indonesia\n",
    "\n",
    "Refs:\n",
    "https://github.com/evanmartua34/Twitter-COVID19-Indonesia-Sentiment-Analysis---Lexicon-Based/blob/master/Sentiment_Dataset_Generation.py\n"
   ]
  }
 ],
 "metadata": {
  "language_info": {
   "name": "python"
  }
 },
 "nbformat": 4,
 "nbformat_minor": 2
}
